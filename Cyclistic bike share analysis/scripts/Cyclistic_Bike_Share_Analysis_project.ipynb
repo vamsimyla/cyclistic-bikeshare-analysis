{
  "nbformat": 4,
  "nbformat_minor": 0,
  "metadata": {
    "colab": {
      "provenance": [],
      "toc_visible": true
    },
    "kernelspec": {
      "name": "python3",
      "display_name": "Python 3"
    },
    "language_info": {
      "name": "python"
    }
  },
  "cells": [
    {
      "cell_type": "code",
      "execution_count": 2,
      "metadata": {
        "colab": {
          "base_uri": "https://localhost:8080/",
          "height": 420
        },
        "id": "7sCLu_KLQ8R2",
        "outputId": "9bd0381a-f0d5-4d91-9d52-f0293caec46c"
      },
      "outputs": [
        {
          "output_type": "display_data",
          "data": {
            "text/plain": [
              "<IPython.core.display.HTML object>"
            ],
            "text/html": [
              "\n",
              "     <input type=\"file\" id=\"files-6db8a410-9e41-4eb9-a603-5bd48548f9c1\" name=\"files[]\" multiple disabled\n",
              "        style=\"border:none\" />\n",
              "     <output id=\"result-6db8a410-9e41-4eb9-a603-5bd48548f9c1\">\n",
              "      Upload widget is only available when the cell has been executed in the\n",
              "      current browser session. Please rerun this cell to enable.\n",
              "      </output>\n",
              "      <script>// Copyright 2017 Google LLC\n",
              "//\n",
              "// Licensed under the Apache License, Version 2.0 (the \"License\");\n",
              "// you may not use this file except in compliance with the License.\n",
              "// You may obtain a copy of the License at\n",
              "//\n",
              "//      http://www.apache.org/licenses/LICENSE-2.0\n",
              "//\n",
              "// Unless required by applicable law or agreed to in writing, software\n",
              "// distributed under the License is distributed on an \"AS IS\" BASIS,\n",
              "// WITHOUT WARRANTIES OR CONDITIONS OF ANY KIND, either express or implied.\n",
              "// See the License for the specific language governing permissions and\n",
              "// limitations under the License.\n",
              "\n",
              "/**\n",
              " * @fileoverview Helpers for google.colab Python module.\n",
              " */\n",
              "(function(scope) {\n",
              "function span(text, styleAttributes = {}) {\n",
              "  const element = document.createElement('span');\n",
              "  element.textContent = text;\n",
              "  for (const key of Object.keys(styleAttributes)) {\n",
              "    element.style[key] = styleAttributes[key];\n",
              "  }\n",
              "  return element;\n",
              "}\n",
              "\n",
              "// Max number of bytes which will be uploaded at a time.\n",
              "const MAX_PAYLOAD_SIZE = 100 * 1024;\n",
              "\n",
              "function _uploadFiles(inputId, outputId) {\n",
              "  const steps = uploadFilesStep(inputId, outputId);\n",
              "  const outputElement = document.getElementById(outputId);\n",
              "  // Cache steps on the outputElement to make it available for the next call\n",
              "  // to uploadFilesContinue from Python.\n",
              "  outputElement.steps = steps;\n",
              "\n",
              "  return _uploadFilesContinue(outputId);\n",
              "}\n",
              "\n",
              "// This is roughly an async generator (not supported in the browser yet),\n",
              "// where there are multiple asynchronous steps and the Python side is going\n",
              "// to poll for completion of each step.\n",
              "// This uses a Promise to block the python side on completion of each step,\n",
              "// then passes the result of the previous step as the input to the next step.\n",
              "function _uploadFilesContinue(outputId) {\n",
              "  const outputElement = document.getElementById(outputId);\n",
              "  const steps = outputElement.steps;\n",
              "\n",
              "  const next = steps.next(outputElement.lastPromiseValue);\n",
              "  return Promise.resolve(next.value.promise).then((value) => {\n",
              "    // Cache the last promise value to make it available to the next\n",
              "    // step of the generator.\n",
              "    outputElement.lastPromiseValue = value;\n",
              "    return next.value.response;\n",
              "  });\n",
              "}\n",
              "\n",
              "/**\n",
              " * Generator function which is called between each async step of the upload\n",
              " * process.\n",
              " * @param {string} inputId Element ID of the input file picker element.\n",
              " * @param {string} outputId Element ID of the output display.\n",
              " * @return {!Iterable<!Object>} Iterable of next steps.\n",
              " */\n",
              "function* uploadFilesStep(inputId, outputId) {\n",
              "  const inputElement = document.getElementById(inputId);\n",
              "  inputElement.disabled = false;\n",
              "\n",
              "  const outputElement = document.getElementById(outputId);\n",
              "  outputElement.innerHTML = '';\n",
              "\n",
              "  const pickedPromise = new Promise((resolve) => {\n",
              "    inputElement.addEventListener('change', (e) => {\n",
              "      resolve(e.target.files);\n",
              "    });\n",
              "  });\n",
              "\n",
              "  const cancel = document.createElement('button');\n",
              "  inputElement.parentElement.appendChild(cancel);\n",
              "  cancel.textContent = 'Cancel upload';\n",
              "  const cancelPromise = new Promise((resolve) => {\n",
              "    cancel.onclick = () => {\n",
              "      resolve(null);\n",
              "    };\n",
              "  });\n",
              "\n",
              "  // Wait for the user to pick the files.\n",
              "  const files = yield {\n",
              "    promise: Promise.race([pickedPromise, cancelPromise]),\n",
              "    response: {\n",
              "      action: 'starting',\n",
              "    }\n",
              "  };\n",
              "\n",
              "  cancel.remove();\n",
              "\n",
              "  // Disable the input element since further picks are not allowed.\n",
              "  inputElement.disabled = true;\n",
              "\n",
              "  if (!files) {\n",
              "    return {\n",
              "      response: {\n",
              "        action: 'complete',\n",
              "      }\n",
              "    };\n",
              "  }\n",
              "\n",
              "  for (const file of files) {\n",
              "    const li = document.createElement('li');\n",
              "    li.append(span(file.name, {fontWeight: 'bold'}));\n",
              "    li.append(span(\n",
              "        `(${file.type || 'n/a'}) - ${file.size} bytes, ` +\n",
              "        `last modified: ${\n",
              "            file.lastModifiedDate ? file.lastModifiedDate.toLocaleDateString() :\n",
              "                                    'n/a'} - `));\n",
              "    const percent = span('0% done');\n",
              "    li.appendChild(percent);\n",
              "\n",
              "    outputElement.appendChild(li);\n",
              "\n",
              "    const fileDataPromise = new Promise((resolve) => {\n",
              "      const reader = new FileReader();\n",
              "      reader.onload = (e) => {\n",
              "        resolve(e.target.result);\n",
              "      };\n",
              "      reader.readAsArrayBuffer(file);\n",
              "    });\n",
              "    // Wait for the data to be ready.\n",
              "    let fileData = yield {\n",
              "      promise: fileDataPromise,\n",
              "      response: {\n",
              "        action: 'continue',\n",
              "      }\n",
              "    };\n",
              "\n",
              "    // Use a chunked sending to avoid message size limits. See b/62115660.\n",
              "    let position = 0;\n",
              "    do {\n",
              "      const length = Math.min(fileData.byteLength - position, MAX_PAYLOAD_SIZE);\n",
              "      const chunk = new Uint8Array(fileData, position, length);\n",
              "      position += length;\n",
              "\n",
              "      const base64 = btoa(String.fromCharCode.apply(null, chunk));\n",
              "      yield {\n",
              "        response: {\n",
              "          action: 'append',\n",
              "          file: file.name,\n",
              "          data: base64,\n",
              "        },\n",
              "      };\n",
              "\n",
              "      let percentDone = fileData.byteLength === 0 ?\n",
              "          100 :\n",
              "          Math.round((position / fileData.byteLength) * 100);\n",
              "      percent.textContent = `${percentDone}% done`;\n",
              "\n",
              "    } while (position < fileData.byteLength);\n",
              "  }\n",
              "\n",
              "  // All done.\n",
              "  yield {\n",
              "    response: {\n",
              "      action: 'complete',\n",
              "    }\n",
              "  };\n",
              "}\n",
              "\n",
              "scope.google = scope.google || {};\n",
              "scope.google.colab = scope.google.colab || {};\n",
              "scope.google.colab._files = {\n",
              "  _uploadFiles,\n",
              "  _uploadFilesContinue,\n",
              "};\n",
              "})(self);\n",
              "</script> "
            ]
          },
          "metadata": {}
        },
        {
          "output_type": "stream",
          "name": "stdout",
          "text": [
            "Saving Divvy_Trips_2020_Q1.csv to Divvy_Trips_2020_Q1.csv\n",
            "            ride_id rideable_type           started_at             ended_at  \\\n",
            "0  EACB19130B0CDA4A   docked_bike  2020-01-21 20:06:59  2020-01-21 20:14:30   \n",
            "1  8FED874C809DC021   docked_bike  2020-01-30 14:22:39  2020-01-30 14:26:22   \n",
            "2  789F3C21E472CA96   docked_bike  2020-01-09 19:29:26  2020-01-09 19:32:17   \n",
            "3  C9A388DAC6ABF313   docked_bike  2020-01-06 16:17:07  2020-01-06 16:25:56   \n",
            "4  943BC3CBECCFD662   docked_bike  2020-01-30 08:37:16  2020-01-30 08:42:48   \n",
            "\n",
            "         start_station_name  start_station_id                end_station_name  \\\n",
            "0  Western Ave & Leland Ave               239           Clark St & Leland Ave   \n",
            "1   Clark St & Montrose Ave               234  Southport Ave & Irving Park Rd   \n",
            "2    Broadway & Belmont Ave               296        Wilton Ave & Belmont Ave   \n",
            "3    Clark St & Randolph St                51        Fairbanks Ct & Grand Ave   \n",
            "4      Clinton St & Lake St                66           Wells St & Hubbard St   \n",
            "\n",
            "   end_station_id  start_lat  start_lng  end_lat  end_lng member_casual  \n",
            "0           326.0    41.9665   -87.6884  41.9671 -87.6674        member  \n",
            "1           318.0    41.9616   -87.6660  41.9542 -87.6644        member  \n",
            "2           117.0    41.9401   -87.6455  41.9402 -87.6530        member  \n",
            "3            24.0    41.8846   -87.6319  41.8918 -87.6206        member  \n",
            "4           212.0    41.8856   -87.6418  41.8899 -87.6343        member  \n"
          ]
        }
      ],
      "source": [
        "#loading raw data\n",
        "\n",
        "import pandas as pd\n",
        "\n",
        "# Load your raw CSV file\n",
        "from google.colab import files\n",
        "uploaded = files.upload()\n",
        "\n",
        "df = pd.read_csv(\"Divvy_Trips_2020_Q1.csv\")\n",
        "\n",
        "# Preview the dataset\n",
        "print(df.head())\n"
      ]
    },
    {
      "cell_type": "code",
      "source": [
        "print(df.info())\n",
        "print(df.isnull().sum())\n"
      ],
      "metadata": {
        "colab": {
          "base_uri": "https://localhost:8080/"
        },
        "id": "KRPRt-ayR7qy",
        "outputId": "0c49fcd1-ad25-4dc4-9b2e-e0c69788400a"
      },
      "execution_count": 3,
      "outputs": [
        {
          "output_type": "stream",
          "name": "stdout",
          "text": [
            "<class 'pandas.core.frame.DataFrame'>\n",
            "RangeIndex: 426887 entries, 0 to 426886\n",
            "Data columns (total 13 columns):\n",
            " #   Column              Non-Null Count   Dtype  \n",
            "---  ------              --------------   -----  \n",
            " 0   ride_id             426887 non-null  object \n",
            " 1   rideable_type       426887 non-null  object \n",
            " 2   started_at          426887 non-null  object \n",
            " 3   ended_at            426887 non-null  object \n",
            " 4   start_station_name  426887 non-null  object \n",
            " 5   start_station_id    426887 non-null  int64  \n",
            " 6   end_station_name    426886 non-null  object \n",
            " 7   end_station_id      426886 non-null  float64\n",
            " 8   start_lat           426887 non-null  float64\n",
            " 9   start_lng           426887 non-null  float64\n",
            " 10  end_lat             426886 non-null  float64\n",
            " 11  end_lng             426886 non-null  float64\n",
            " 12  member_casual       426887 non-null  object \n",
            "dtypes: float64(5), int64(1), object(7)\n",
            "memory usage: 42.3+ MB\n",
            "None\n",
            "ride_id               0\n",
            "rideable_type         0\n",
            "started_at            0\n",
            "ended_at              0\n",
            "start_station_name    0\n",
            "start_station_id      0\n",
            "end_station_name      1\n",
            "end_station_id        1\n",
            "start_lat             0\n",
            "start_lng             0\n",
            "end_lat               1\n",
            "end_lng               1\n",
            "member_casual         0\n",
            "dtype: int64\n"
          ]
        }
      ]
    },
    {
      "cell_type": "code",
      "source": [
        "# Convert date columns\n",
        "df['started_at'] = pd.to_datetime(df['started_at'])\n",
        "df['ended_at'] = pd.to_datetime(df['ended_at'])\n",
        "\n",
        "# Calculate ride length in seconds\n",
        "df['ride_length'] = (df['ended_at'] - df['started_at']).dt.total_seconds()\n",
        "\n",
        "# Filter out invalid rides\n",
        "df = df[df['ride_length'] > 0].copy()\n",
        "\n",
        "# Convert to minutes\n",
        "df['ride_length_min'] = df['ride_length'] / 60\n"
      ],
      "metadata": {
        "id": "D8H837rFSBVw"
      },
      "execution_count": 4,
      "outputs": []
    },
    {
      "cell_type": "code",
      "source": [
        "df['weekday'] = df['started_at'].dt.day_name()\n",
        "df['month'] = df['started_at'].dt.strftime(\"%B\")\n"
      ],
      "metadata": {
        "id": "zJvsteO0SEt3"
      },
      "execution_count": 5,
      "outputs": []
    },
    {
      "cell_type": "code",
      "source": [
        "# Filter out outlier rides longer than 1 day\n",
        "df = df[df['ride_length_min'] < 1440]\n"
      ],
      "metadata": {
        "id": "7asS06CTSsM6"
      },
      "execution_count": 7,
      "outputs": []
    },
    {
      "cell_type": "code",
      "source": [
        "# Verify datetime conversion\n",
        "print(\"\\n🕒 Datetime Types Check:\")\n",
        "print(df[['started_at', 'ended_at']].dtypes)\n",
        "\n",
        "# Check for negative or zero ride lengths\n",
        "print(\"\\n❌ Invalid Ride Lengths (<= 0):\")\n",
        "invalid_rides = df[df['ride_length'] <= 0]\n",
        "print(f\"Found {len(invalid_rides)} invalid rides.\")\n",
        "\n",
        "# Check for missing values in key columns\n",
        "print(\"\\n🔍 Missing Values:\")\n",
        "print(df[['ride_id', 'started_at', 'ended_at', 'member_casual']].isnull().sum())\n",
        "\n",
        "# Check ride length min column exists and is numeric\n",
        "if 'ride_length_min' in df.columns and pd.api.types.is_numeric_dtype(df['ride_length_min']):\n",
        "    print(\"\\n✅ ride_length_min exists and is numeric.\")\n",
        "else:\n",
        "    print(\"\\n❌ ride_length_min missing or not numeric.\")\n",
        "\n",
        "# Check if weekday and month columns exist\n",
        "time_cols = ['weekday', 'month']\n",
        "missing_cols = [col for col in time_cols if col not in df.columns]\n",
        "if not missing_cols:\n",
        "    print(\"\\n✅ Time columns (weekday, month) exist.\")\n",
        "else:\n",
        "    print(f\"\\n❌ Missing time columns: {missing_cols}\")\n",
        "\n",
        "# Summary of ride length statistics\n",
        "print(\"\\n📊 Ride Length Summary (in minutes):\")\n",
        "print(df['ride_length_min'].describe())\n"
      ],
      "metadata": {
        "colab": {
          "base_uri": "https://localhost:8080/"
        },
        "id": "dWVQSaPfSV6K",
        "outputId": "bb766958-9a83-4062-b835-e00319d1b7db"
      },
      "execution_count": 8,
      "outputs": [
        {
          "output_type": "stream",
          "name": "stdout",
          "text": [
            "\n",
            "🕒 Datetime Types Check:\n",
            "started_at    datetime64[ns]\n",
            "ended_at      datetime64[ns]\n",
            "dtype: object\n",
            "\n",
            "❌ Invalid Ride Lengths (<= 0):\n",
            "Found 0 invalid rides.\n",
            "\n",
            "🔍 Missing Values:\n",
            "ride_id          0\n",
            "started_at       0\n",
            "ended_at         0\n",
            "member_casual    0\n",
            "dtype: int64\n",
            "\n",
            "✅ ride_length_min exists and is numeric.\n",
            "\n",
            "✅ Time columns (weekday, month) exist.\n",
            "\n",
            "📊 Ride Length Summary (in minutes):\n",
            "count    426387.000000\n",
            "mean         14.376844\n",
            "std          34.040008\n",
            "min           0.016667\n",
            "25%           5.483333\n",
            "50%           9.166667\n",
            "75%          15.800000\n",
            "max        1435.916667\n",
            "Name: ride_length_min, dtype: float64\n"
          ]
        }
      ]
    },
    {
      "cell_type": "code",
      "source": [
        "#group by rider type\n",
        "avg_duration = df.groupby(\"member_casual\")[\"ride_length_min\"].mean().round(2).reset_index()\n",
        "print(avg_duration)\n",
        "\n"
      ],
      "metadata": {
        "colab": {
          "base_uri": "https://localhost:8080/"
        },
        "id": "wm0YV1sCS07i",
        "outputId": "9df68de7-36e6-467d-ab7f-39ed4f67cbfe"
      },
      "execution_count": 9,
      "outputs": [
        {
          "output_type": "stream",
          "name": "stdout",
          "text": [
            "  member_casual  ride_length_min\n",
            "0        casual            37.03\n",
            "1        member            11.50\n"
          ]
        }
      ]
    },
    {
      "cell_type": "code",
      "source": [
        "# group and count rides by weekday and rider type\n",
        "weekday_usage = df.groupby(['weekday', 'member_casual'])['ride_id'].count().reset_index()\n",
        "weekday_usage.rename(columns={'ride_id': 'ride_count'}, inplace=True)\n",
        "print(weekday_usage)\n",
        "\n",
        "\n"
      ],
      "metadata": {
        "colab": {
          "base_uri": "https://localhost:8080/"
        },
        "id": "3gWz5Nu1S_3z",
        "outputId": "428d6483-7be4-43f9-d7e9-b92b9cebacec"
      },
      "execution_count": 15,
      "outputs": [
        {
          "output_type": "stream",
          "name": "stdout",
          "text": [
            "      weekday member_casual  ride_count\n",
            "0      Friday        casual        5103\n",
            "1      Friday        member       55477\n",
            "2      Monday        casual        4785\n",
            "3      Monday        member       61916\n",
            "4    Saturday        casual        7445\n",
            "5    Saturday        member       30095\n",
            "6      Sunday        casual       14820\n",
            "7      Sunday        member       35959\n",
            "8    Thursday        casual        4819\n",
            "9    Thursday        member       61236\n",
            "10    Tuesday        casual        5225\n",
            "11    Tuesday        member       69692\n",
            "12  Wednesday        casual        5846\n",
            "13  Wednesday        member       63969\n"
          ]
        }
      ]
    },
    {
      "cell_type": "code",
      "source": [
        "#group by bike type\n",
        "\n",
        "bike_type_usage = df.groupby([\"rideable_type\", \"member_casual\"])[\"ride_id\"].count().reset_index()\n",
        "print(bike_type_usage)\n"
      ],
      "metadata": {
        "colab": {
          "base_uri": "https://localhost:8080/"
        },
        "id": "ieTApkrjTHYe",
        "outputId": "13919d34-7ee6-4c9c-ee40-5f867ed15e68"
      },
      "execution_count": 11,
      "outputs": [
        {
          "output_type": "stream",
          "name": "stdout",
          "text": [
            "  rideable_type member_casual  ride_id\n",
            "0   docked_bike        casual    48043\n",
            "1   docked_bike        member   378344\n"
          ]
        }
      ]
    },
    {
      "cell_type": "code",
      "source": [
        "#group by month to identify seasonal trends\n",
        "\n",
        "monthly_usage = df.groupby([\"month\", \"member_casual\"])[\"ride_id\"].count().reset_index()\n",
        "print(monthly_usage)\n"
      ],
      "metadata": {
        "colab": {
          "base_uri": "https://localhost:8080/"
        },
        "id": "krlFb_6wTR3m",
        "outputId": "165f9b98-ce0c-4897-daf1-4cccd759e138"
      },
      "execution_count": 12,
      "outputs": [
        {
          "output_type": "stream",
          "name": "stdout",
          "text": [
            "      month member_casual  ride_id\n",
            "0  February        casual    12797\n",
            "1  February        member   126696\n",
            "2   January        casual     7721\n",
            "3   January        member   136082\n",
            "4     March        casual    27525\n",
            "5     March        member   115566\n"
          ]
        }
      ]
    },
    {
      "cell_type": "code",
      "source": [
        "#summary table files\n",
        "\n",
        "avg_duration.to_csv(\"avg_ride_duration.csv\", index=False)\n",
        "weekday_usage.to_csv(\"weekday_usage.csv\", index=False)\n",
        "bike_type_usage.to_csv(\"bike_type_usage.csv\", index=False)\n",
        "monthly_usage.to_csv(\"monthly_usage.csv\", index=False)\n",
        "\n",
        "from google.colab import files\n",
        "\n",
        "# Download each file\n",
        "files.download(\"avg_ride_duration.csv\")\n",
        "files.download(\"weekday_usage.csv\")\n",
        "files.download(\"bike_type_usage.csv\")\n",
        "files.download(\"monthly_usage.csv\")\n",
        "\n",
        "\n"
      ],
      "metadata": {
        "colab": {
          "base_uri": "https://localhost:8080/",
          "height": 17
        },
        "id": "Y6_L-lsJTW0e",
        "outputId": "9804acf4-881e-4aa4-9995-b67f4202a14b"
      },
      "execution_count": 16,
      "outputs": [
        {
          "output_type": "display_data",
          "data": {
            "text/plain": [
              "<IPython.core.display.Javascript object>"
            ],
            "application/javascript": [
              "\n",
              "    async function download(id, filename, size) {\n",
              "      if (!google.colab.kernel.accessAllowed) {\n",
              "        return;\n",
              "      }\n",
              "      const div = document.createElement('div');\n",
              "      const label = document.createElement('label');\n",
              "      label.textContent = `Downloading \"${filename}\": `;\n",
              "      div.appendChild(label);\n",
              "      const progress = document.createElement('progress');\n",
              "      progress.max = size;\n",
              "      div.appendChild(progress);\n",
              "      document.body.appendChild(div);\n",
              "\n",
              "      const buffers = [];\n",
              "      let downloaded = 0;\n",
              "\n",
              "      const channel = await google.colab.kernel.comms.open(id);\n",
              "      // Send a message to notify the kernel that we're ready.\n",
              "      channel.send({})\n",
              "\n",
              "      for await (const message of channel.messages) {\n",
              "        // Send a message to notify the kernel that we're ready.\n",
              "        channel.send({})\n",
              "        if (message.buffers) {\n",
              "          for (const buffer of message.buffers) {\n",
              "            buffers.push(buffer);\n",
              "            downloaded += buffer.byteLength;\n",
              "            progress.value = downloaded;\n",
              "          }\n",
              "        }\n",
              "      }\n",
              "      const blob = new Blob(buffers, {type: 'application/binary'});\n",
              "      const a = document.createElement('a');\n",
              "      a.href = window.URL.createObjectURL(blob);\n",
              "      a.download = filename;\n",
              "      div.appendChild(a);\n",
              "      a.click();\n",
              "      div.remove();\n",
              "    }\n",
              "  "
            ]
          },
          "metadata": {}
        },
        {
          "output_type": "display_data",
          "data": {
            "text/plain": [
              "<IPython.core.display.Javascript object>"
            ],
            "application/javascript": [
              "download(\"download_b392cab9-0e4a-4b29-b138-90503e383e95\", \"avg_ride_duration.csv\", 55)"
            ]
          },
          "metadata": {}
        },
        {
          "output_type": "display_data",
          "data": {
            "text/plain": [
              "<IPython.core.display.Javascript object>"
            ],
            "application/javascript": [
              "\n",
              "    async function download(id, filename, size) {\n",
              "      if (!google.colab.kernel.accessAllowed) {\n",
              "        return;\n",
              "      }\n",
              "      const div = document.createElement('div');\n",
              "      const label = document.createElement('label');\n",
              "      label.textContent = `Downloading \"${filename}\": `;\n",
              "      div.appendChild(label);\n",
              "      const progress = document.createElement('progress');\n",
              "      progress.max = size;\n",
              "      div.appendChild(progress);\n",
              "      document.body.appendChild(div);\n",
              "\n",
              "      const buffers = [];\n",
              "      let downloaded = 0;\n",
              "\n",
              "      const channel = await google.colab.kernel.comms.open(id);\n",
              "      // Send a message to notify the kernel that we're ready.\n",
              "      channel.send({})\n",
              "\n",
              "      for await (const message of channel.messages) {\n",
              "        // Send a message to notify the kernel that we're ready.\n",
              "        channel.send({})\n",
              "        if (message.buffers) {\n",
              "          for (const buffer of message.buffers) {\n",
              "            buffers.push(buffer);\n",
              "            downloaded += buffer.byteLength;\n",
              "            progress.value = downloaded;\n",
              "          }\n",
              "        }\n",
              "      }\n",
              "      const blob = new Blob(buffers, {type: 'application/binary'});\n",
              "      const a = document.createElement('a');\n",
              "      a.href = window.URL.createObjectURL(blob);\n",
              "      a.download = filename;\n",
              "      div.appendChild(a);\n",
              "      a.click();\n",
              "      div.remove();\n",
              "    }\n",
              "  "
            ]
          },
          "metadata": {}
        },
        {
          "output_type": "display_data",
          "data": {
            "text/plain": [
              "<IPython.core.display.Javascript object>"
            ],
            "application/javascript": [
              "download(\"download_8cb9125f-1113-489b-a99f-cb5e65f92b90\", \"weekday_usage.csv\", 323)"
            ]
          },
          "metadata": {}
        },
        {
          "output_type": "display_data",
          "data": {
            "text/plain": [
              "<IPython.core.display.Javascript object>"
            ],
            "application/javascript": [
              "\n",
              "    async function download(id, filename, size) {\n",
              "      if (!google.colab.kernel.accessAllowed) {\n",
              "        return;\n",
              "      }\n",
              "      const div = document.createElement('div');\n",
              "      const label = document.createElement('label');\n",
              "      label.textContent = `Downloading \"${filename}\": `;\n",
              "      div.appendChild(label);\n",
              "      const progress = document.createElement('progress');\n",
              "      progress.max = size;\n",
              "      div.appendChild(progress);\n",
              "      document.body.appendChild(div);\n",
              "\n",
              "      const buffers = [];\n",
              "      let downloaded = 0;\n",
              "\n",
              "      const channel = await google.colab.kernel.comms.open(id);\n",
              "      // Send a message to notify the kernel that we're ready.\n",
              "      channel.send({})\n",
              "\n",
              "      for await (const message of channel.messages) {\n",
              "        // Send a message to notify the kernel that we're ready.\n",
              "        channel.send({})\n",
              "        if (message.buffers) {\n",
              "          for (const buffer of message.buffers) {\n",
              "            buffers.push(buffer);\n",
              "            downloaded += buffer.byteLength;\n",
              "            progress.value = downloaded;\n",
              "          }\n",
              "        }\n",
              "      }\n",
              "      const blob = new Blob(buffers, {type: 'application/binary'});\n",
              "      const a = document.createElement('a');\n",
              "      a.href = window.URL.createObjectURL(blob);\n",
              "      a.download = filename;\n",
              "      div.appendChild(a);\n",
              "      a.click();\n",
              "      div.remove();\n",
              "    }\n",
              "  "
            ]
          },
          "metadata": {}
        },
        {
          "output_type": "display_data",
          "data": {
            "text/plain": [
              "<IPython.core.display.Javascript object>"
            ],
            "application/javascript": [
              "download(\"download_ad280887-f841-4ba6-b0ee-0256a5fd6836\", \"bike_type_usage.csv\", 87)"
            ]
          },
          "metadata": {}
        },
        {
          "output_type": "display_data",
          "data": {
            "text/plain": [
              "<IPython.core.display.Javascript object>"
            ],
            "application/javascript": [
              "\n",
              "    async function download(id, filename, size) {\n",
              "      if (!google.colab.kernel.accessAllowed) {\n",
              "        return;\n",
              "      }\n",
              "      const div = document.createElement('div');\n",
              "      const label = document.createElement('label');\n",
              "      label.textContent = `Downloading \"${filename}\": `;\n",
              "      div.appendChild(label);\n",
              "      const progress = document.createElement('progress');\n",
              "      progress.max = size;\n",
              "      div.appendChild(progress);\n",
              "      document.body.appendChild(div);\n",
              "\n",
              "      const buffers = [];\n",
              "      let downloaded = 0;\n",
              "\n",
              "      const channel = await google.colab.kernel.comms.open(id);\n",
              "      // Send a message to notify the kernel that we're ready.\n",
              "      channel.send({})\n",
              "\n",
              "      for await (const message of channel.messages) {\n",
              "        // Send a message to notify the kernel that we're ready.\n",
              "        channel.send({})\n",
              "        if (message.buffers) {\n",
              "          for (const buffer of message.buffers) {\n",
              "            buffers.push(buffer);\n",
              "            downloaded += buffer.byteLength;\n",
              "            progress.value = downloaded;\n",
              "          }\n",
              "        }\n",
              "      }\n",
              "      const blob = new Blob(buffers, {type: 'application/binary'});\n",
              "      const a = document.createElement('a');\n",
              "      a.href = window.URL.createObjectURL(blob);\n",
              "      a.download = filename;\n",
              "      div.appendChild(a);\n",
              "      a.click();\n",
              "      div.remove();\n",
              "    }\n",
              "  "
            ]
          },
          "metadata": {}
        },
        {
          "output_type": "display_data",
          "data": {
            "text/plain": [
              "<IPython.core.display.Javascript object>"
            ],
            "application/javascript": [
              "download(\"download_c0308940-80f3-4ffe-acfa-856e23f917eb\", \"monthly_usage.csv\", 154)"
            ]
          },
          "metadata": {}
        }
      ]
    },
    {
      "cell_type": "code",
      "source": [],
      "metadata": {
        "id": "lBVtlj3eUtv3"
      },
      "execution_count": null,
      "outputs": []
    }
  ]
}